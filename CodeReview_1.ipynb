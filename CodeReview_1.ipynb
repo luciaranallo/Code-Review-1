{
 "cells": [
  {
   "cell_type": "code",
   "execution_count": 1,
   "id": "9eed68af",
   "metadata": {},
   "outputs": [
    {
     "name": "stdout",
     "output_type": "stream",
     "text": [
      "['Kinoko', 'Dango', 'Mochi']\n",
      "[2021, 2019, 2019]\n",
      "{'Kinoko': 2021, 'Dango': 2019, 'Mochi': 2019}\n"
     ]
    }
   ],
   "source": [
    "\"\"\"\n",
    "Problem 2: Dictionary woes\n",
    " .d Manually create a dictionary that has a single level and contains each patient\n",
    "    as the key and the year as the value. Set Mochi's year to 2019.'\n",
    "\"\"\"\n",
    "two_d = {\"Kinoko\":2021, \"Dango\":2019, \"Mochi\":2019}\n",
    "\n",
    "#.e Coerce the keys of 2.d into a list\n",
    "two_e = list(two_d.keys())\n",
    "print(two_e)\n",
    "\n",
    "#.f Coerce the values of 2.d into a list\n",
    "two_f = list(two_d.values())\n",
    "print(two_f)\n",
    "\n",
    "#.g Use the zip function to combine 2.e and 2.f into a dictionary again\n",
    "two_g = dict(zip(two_e, two_f))\n",
    "print(two_g)\n"
   ]
  }
 ],
 "metadata": {
  "kernelspec": {
   "display_name": "Python 3",
   "language": "python",
   "name": "python3"
  },
  "language_info": {
   "codemirror_mode": {
    "name": "ipython",
    "version": 3
   },
   "file_extension": ".py",
   "mimetype": "text/x-python",
   "name": "python",
   "nbconvert_exporter": "python",
   "pygments_lexer": "ipython3",
   "version": "3.8.8"
  }
 },
 "nbformat": 4,
 "nbformat_minor": 5
}
